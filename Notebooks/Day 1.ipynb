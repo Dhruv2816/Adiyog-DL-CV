{
 "cells": [
  {
   "cell_type": "markdown",
   "id": "555580ca",
   "metadata": {},
   "source": [
    "# DAY 1"
   ]
  },
  {
   "cell_type": "markdown",
   "id": "925c8488",
   "metadata": {},
   "source": [
    "## Import the Required Libraries"
   ]
  },
  {
   "cell_type": "code",
   "execution_count": 1,
   "id": "37f3ff46",
   "metadata": {},
   "outputs": [],
   "source": [
    "import os\n",
    "import cv2\n",
    "import csv\n",
    "import numpy as np\n",
    "import pandas as pd\n",
    "import matplotlib.pyplot as plt\n",
    "import matplotlib\n",
    "import seaborn as sns\n",
    "from scipy.signal import resample\n",
    "\n",
    "import mediapipe as mp\n",
    "from mediapipe.python.solutions.drawing_utils import draw_landmarks\n",
    "from mediapipe.python.solutions.drawing_styles import get_default_pose_landmarks_style\n",
    "\n",
    "import yt_dlp\n",
    "\n",
    "from fastdtw import fastdtw\n",
    "from scipy.spatial.distance import euclidean\n",
    "from dtaidistance import dtw"
   ]
  },
  {
   "cell_type": "markdown",
   "id": "b0ed0889",
   "metadata": {},
   "source": [
    "## 1.Keypoint Extrations from the video"
   ]
  },
  {
   "cell_type": "code",
   "execution_count": 2,
   "id": "3f296ae4",
   "metadata": {},
   "outputs": [],
   "source": [
    "def extract_keypoints_from_video(video_path, output_csv, max_frames=None, start_sec=None, end_sec=None, debug_dir=None):\n",
    "    cap = cv2.VideoCapture(video_path)\n",
    "    mp_pose = mp.solutions.pose\n",
    "    pose = mp_pose.Pose()\n",
    "\n",
    "    fps = cap.get(cv2.CAP_PROP_FPS)\n",
    "    total_frames = cap.get(cv2.CAP_PROP_FRAME_COUNT)\n",
    "    duration = total_frames / fps\n",
    "\n",
    "    print(f\"\\n[INFO] Processing video: {video_path}\")\n",
    "    print(f\"[INFO] FPS: {fps:.2f}, Total Frames: {int(total_frames)}, Duration: {duration:.2f}s\")\n",
    "\n",
    "    os.makedirs(os.path.dirname(output_csv), exist_ok=True)\n",
    "    if debug_dir:\n",
    "        os.makedirs(debug_dir, exist_ok=True)\n",
    "\n",
    "    frame_idx = 0\n",
    "    saved_idx = 0\n",
    "    first_frame_time, last_frame_time = None, None\n",
    "\n",
    "    with open(output_csv, mode='w', newline='') as csv_file:\n",
    "        writer = csv.writer(csv_file)\n",
    "        header = ['frame']\n",
    "        for i in range(33):\n",
    "            header += [f'x{i}', f'y{i}', f'z{i}']\n",
    "        writer.writerow(header)\n",
    "\n",
    "        while cap.isOpened():\n",
    "            ret, frame = cap.read()\n",
    "            if not ret:\n",
    "                break\n",
    "\n",
    "            time_sec = frame_idx / fps\n",
    "            frame_idx += 1\n",
    "\n",
    "            if start_sec and time_sec < start_sec:\n",
    "                continue\n",
    "            if end_sec and time_sec > end_sec:\n",
    "                break\n",
    "            if max_frames and saved_idx >= max_frames:\n",
    "                break\n",
    "\n",
    "            if first_frame_time is None:\n",
    "                first_frame_time = time_sec\n",
    "            last_frame_time = time_sec\n",
    "\n",
    "            frame_rgb = cv2.cvtColor(frame, cv2.COLOR_BGR2RGB)\n",
    "            result = pose.process(frame_rgb)\n",
    "\n",
    "            row = [saved_idx]\n",
    "            if result.pose_landmarks:\n",
    "                for lm in result.pose_landmarks.landmark:\n",
    "                    row += [lm.x, lm.y, lm.z]\n",
    "            else:\n",
    "                row += [0.0] * (33 * 3)\n",
    "            writer.writerow(row)\n",
    "\n",
    "            if debug_dir and saved_idx % 30 == 0:\n",
    "                debug_frame = frame.copy()\n",
    "                if result.pose_landmarks:\n",
    "                    draw_landmarks(\n",
    "                        debug_frame,\n",
    "                        result.pose_landmarks,\n",
    "                        mp_pose.POSE_CONNECTIONS,\n",
    "                        landmark_drawing_spec=get_default_pose_landmarks_style()\n",
    "                    )\n",
    "                debug_path = os.path.join(debug_dir, f\"frame_{saved_idx}_pose.jpg\")\n",
    "                cv2.imwrite(debug_path, debug_frame)\n",
    "\n",
    "            saved_idx += 1\n",
    "\n",
    "    cap.release()\n",
    "    print(f\"[INFO] Keypoints saved to {output_csv}\")\n",
    "    print(f\"[INFO] Frames processed: {saved_idx}\")\n",
    "    print(f\"[INFO] Time range: {first_frame_time:.2f}s to {last_frame_time:.2f}s\\n\")\n",
    "\n"
   ]
  },
  {
   "cell_type": "markdown",
   "id": "2596fd82",
   "metadata": {},
   "source": [
    "## 2. DTW Score Comparison "
   ]
  },
  {
   "cell_type": "code",
   "execution_count": 3,
   "id": "598d4a0a",
   "metadata": {},
   "outputs": [],
   "source": [
    "def load_keypoints_from_csv(csv_file):\n",
    "    keypoints = []\n",
    "    with open(csv_file, 'r') as f:\n",
    "        reader = csv.reader(f)\n",
    "        next(reader)\n",
    "        for row in reader:\n",
    "            frame_data = list(map(float, row[1:]))\n",
    "            keypoints.append(frame_data)\n",
    "    return np.array(keypoints)\n",
    "\n",
    "\n",
    "def compute_dtw_distance(seq1, seq2):\n",
    "    distance, path = fastdtw(seq1, seq2, dist=euclidean)\n",
    "    return distance, path"
   ]
  },
  {
   "cell_type": "markdown",
   "id": "97de12ea",
   "metadata": {},
   "source": [
    "## 3. Preprocess Keypoints"
   ]
  },
  {
   "cell_type": "code",
   "execution_count": 4,
   "id": "d715371a",
   "metadata": {},
   "outputs": [],
   "source": [
    "\n",
    "\n",
    "def preprocess_keypoints(csv_path, selected_indices):\n",
    "    df = pd.read_csv(csv_path)\n",
    "    sequence = []\n",
    "\n",
    "    for _, row in df.iterrows():\n",
    "        keypoints = np.array(row[1:]).astype(float) \n",
    "        pose = []\n",
    "        for i in selected_indices:\n",
    "            x, y = keypoints[i*3], keypoints[i*3 + 1]  \n",
    "            pose.extend([x, y])\n",
    "        pose = np.array(pose)\n",
    "\n",
    "        root_x, root_y = pose[0], pose[1]\n",
    "        pose -= np.array([root_x, root_y] * (len(pose) // 2))\n",
    "        norm = np.linalg.norm(pose)\n",
    "        pose = pose / norm if norm != 0 else pose\n",
    "\n",
    "        sequence.append(pose)\n",
    "    \n",
    "    return np.array(sequence)\n",
    "\n",
    "\n",
    "def align_and_resample(seq1, seq2):\n",
    "    min_len = min(len(seq1), len(seq2))\n",
    "    seq1_resampled = resample(seq1, min_len)\n",
    "    seq2_resampled = resample(seq2, min_len)\n",
    "    return seq1_resampled, seq2_resampled"
   ]
  },
  {
   "cell_type": "markdown",
   "id": "3c34ec32",
   "metadata": {},
   "source": [
    "# Main Pipeline for Running Day 1 diliverables"
   ]
  },
  {
   "cell_type": "code",
   "execution_count": 5,
   "id": "f7c8b3f5",
   "metadata": {},
   "outputs": [],
   "source": [
    "def download_youtube_video(url, output_path=\"video.mp4\"):\n",
    "    try:\n",
    "        ydl_opts = {\n",
    "            'format': 'bestvideo[ext=mp4]+bestaudio[ext=m4a]/mp4',\n",
    "            'outtmpl': output_path,\n",
    "            'merge_output_format': 'mp4',\n",
    "            'quiet': False,\n",
    "        }\n",
    "        with yt_dlp.YoutubeDL(ydl_opts) as ydl:\n",
    "            ydl.download([url])\n",
    "        print(f\"[INFO] Downloaded video to: {output_path}\")\n",
    "        return output_path\n",
    "    except Exception as e:\n",
    "        print(f\"[ERROR] Failed to download {url}: {e}\")\n",
    "        return None"
   ]
  },
  {
   "cell_type": "code",
   "execution_count": null,
   "id": "862587ed",
   "metadata": {},
   "outputs": [
    {
     "name": "stdout",
     "output_type": "stream",
     "text": [
      "\n",
      "[INFO] Processing video: video1.mp4\n",
      "[INFO] FPS: 30.07, Total Frames: 435, Duration: 14.47s\n",
      "[INFO] Keypoints saved to ../data\\video1_keypoints.csv\n",
      "[INFO] Frames processed: 434\n",
      "[INFO] Time range: 0.00s to 14.40s\n",
      "\n",
      "\n",
      "[INFO] Processing video: video2.mp4\n",
      "[INFO] FPS: 30.00, Total Frames: 1431, Duration: 47.70s\n",
      "[INFO] Keypoints saved to ../data\\video2_keypoints.csv\n",
      "[INFO] Frames processed: 301\n",
      "[INFO] Time range: 21.00s to 31.00s\n",
      "\n",
      "[INFO] Preprocessing keypoints...\n",
      "DTW Distance Score: 140.83\n"
     ]
    },
    {
     "ename": "",
     "evalue": "",
     "output_type": "error",
     "traceback": [
      "\u001b[1;31mThe Kernel crashed while executing code in the current cell or a previous cell. \n",
      "\u001b[1;31mPlease review the code in the cell(s) to identify a possible cause of the failure. \n",
      "\u001b[1;31mClick <a href='https://aka.ms/vscodeJupyterKernelCrash'>here</a> for more info. \n",
      "\u001b[1;31mView Jupyter <a href='command:jupyter.viewOutput'>log</a> for further details."
     ]
    }
   ],
   "source": [
    "\n",
    "if __name__ == \"__main__\":\n",
    "    SELECTED_INDICES = [11, 13, 15, 23, 25, 27] # to only map important keypoints such as shoulders, elbow, wrists etc\n",
    "    OUTPUT_DIR = \"outputs\"\n",
    "    os.makedirs(OUTPUT_DIR, exist_ok=True)\n",
    "\n",
    "    video1_url = \"https://www.youtube.com/watch?v=V0UDCppaxEw\"\n",
    "    video2_url = \"https://www.youtube.com/watch?v=zC_F23Rxu-A\"\n",
    "\n",
    "    video1_path = \"video1.mp4\"\n",
    "    video2_path = \"video2.mp4\"\n",
    "    output_csv1 = os.path.join(r\"../data\", \"video1_keypoints.csv\")\n",
    "    output_csv2 = os.path.join(r\"../data\", \"video2_keypoints.csv\")\n",
    "\n",
    "    if not os.path.exists(video1_path):\n",
    "        download_youtube_video(video1_url, video1_path)\n",
    "    if not os.path.exists(video2_path):\n",
    "        download_youtube_video(video2_url, video2_path)\n",
    "\n",
    "    extract_keypoints_from_video(video1_path, output_csv1, debug_dir=\"debug_frames/video1\")\n",
    "    extract_keypoints_from_video(video2_path, output_csv2, start_sec=21, end_sec=31, debug_dir=\"debug_frames/video2\")\n",
    "\n",
    "    print(\"[INFO] Preprocessing keypoints...\")\n",
    "    seq1 = preprocess_keypoints(output_csv1, SELECTED_INDICES)\n",
    "    seq2 = preprocess_keypoints(output_csv2, SELECTED_INDICES)\n",
    "\n",
    "    min_len = min(len(seq1), len(seq2))\n",
    "    seq1 = resample(seq1, min_len)\n",
    "    seq2 = resample(seq2, min_len)\n",
    "\n",
    "    dtw_distance, dtw_path = fastdtw(seq1, seq2, dist=euclidean)\n",
    "    print(f\"DTW Distance Score: {round(dtw_distance, 2)}\")\n"
   ]
  },
  {
   "cell_type": "code",
   "execution_count": null,
   "id": "3a76e023",
   "metadata": {},
   "outputs": [],
   "source": []
  },
  {
   "cell_type": "code",
   "execution_count": null,
   "id": "86af5d9d",
   "metadata": {},
   "outputs": [],
   "source": []
  }
 ],
 "metadata": {
  "kernelspec": {
   "display_name": "Python 3",
   "language": "python",
   "name": "python3"
  },
  "language_info": {
   "codemirror_mode": {
    "name": "ipython",
    "version": 3
   },
   "file_extension": ".py",
   "mimetype": "text/x-python",
   "name": "python",
   "nbconvert_exporter": "python",
   "pygments_lexer": "ipython3",
   "version": "3.10.16"
  }
 },
 "nbformat": 4,
 "nbformat_minor": 5
}
